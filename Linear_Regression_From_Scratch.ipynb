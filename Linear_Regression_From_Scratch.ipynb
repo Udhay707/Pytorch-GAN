{
  "nbformat": 4,
  "nbformat_minor": 0,
  "metadata": {
    "colab": {
      "provenance": [],
      "toc_visible": true,
      "authorship_tag": "ABX9TyMalfyZk5RDrHWaSw4RJ6W4",
      "include_colab_link": true
    },
    "kernelspec": {
      "name": "python3",
      "display_name": "Python 3"
    },
    "language_info": {
      "name": "python"
    }
  },
  "cells": [
    {
      "cell_type": "markdown",
      "metadata": {
        "id": "view-in-github",
        "colab_type": "text"
      },
      "source": [
        "<a href=\"https://colab.research.google.com/github/Udhay707/Pytorch-GAN/blob/main/Linear_Regression_From_Scratch.ipynb\" target=\"_parent\"><img src=\"https://colab.research.google.com/assets/colab-badge.svg\" alt=\"Open In Colab\"/></a>"
      ]
    },
    {
      "cell_type": "markdown",
      "source": [
        "# Crop Yield Prediction"
      ],
      "metadata": {
        "id": "UcHYdxdX5BFM"
      }
    },
    {
      "cell_type": "code",
      "execution_count": null,
      "metadata": {
        "id": "djgXzCMR2_Jr",
        "colab": {
          "base_uri": "https://localhost:8080/"
        },
        "outputId": "9a766459-0627-46a0-ba55-f81b11f220c6"
      },
      "outputs": [
        {
          "output_type": "stream",
          "name": "stdout",
          "text": [
            "git version 2.34.1\n"
          ]
        }
      ],
      "source": []
    },
    {
      "cell_type": "code",
      "source": [],
      "metadata": {
        "id": "Y6R8lIhv5TZn"
      },
      "execution_count": null,
      "outputs": []
    }
  ]
}