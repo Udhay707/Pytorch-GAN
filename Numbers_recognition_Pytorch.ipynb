{
  "nbformat": 4,
  "nbformat_minor": 0,
  "metadata": {
    "colab": {
      "provenance": [],
      "authorship_tag": "ABX9TyOW4DwFfWmWiFHL5Rs8gWcn",
      "include_colab_link": true
    },
    "kernelspec": {
      "name": "python3",
      "display_name": "Python 3"
    },
    "language_info": {
      "name": "python"
    }
  },
  "cells": [
    {
      "cell_type": "markdown",
      "metadata": {
        "id": "view-in-github",
        "colab_type": "text"
      },
      "source": [
        "<a href=\"https://colab.research.google.com/github/Udhay707/Pytorch-GAN/blob/main/Numbers_recognition_Pytorch.ipynb\" target=\"_parent\"><img src=\"https://colab.research.google.com/assets/colab-badge.svg\" alt=\"Open In Colab\"/></a>"
      ]
    },
    {
      "cell_type": "code",
      "execution_count": 2,
      "metadata": {
        "id": "mi9jBt_yb0wD"
      },
      "outputs": [],
      "source": [
        "import torch\n",
        "import torchvision\n",
        "from torchvision.datasets import MNIST"
      ]
    },
    {
      "cell_type": "code",
      "source": [
        "dataset = MNIST(root='data/', download=True)\n",
        "dataset"
      ],
      "metadata": {
        "colab": {
          "base_uri": "https://localhost:8080/"
        },
        "id": "K_2uY0e8cPYa",
        "outputId": "22f854ba-273b-4f08-bd65-e83c453a5885"
      },
      "execution_count": 3,
      "outputs": [
        {
          "output_type": "stream",
          "name": "stdout",
          "text": [
            "Downloading http://yann.lecun.com/exdb/mnist/train-images-idx3-ubyte.gz\n",
            "Failed to download (trying next):\n",
            "HTTP Error 403: Forbidden\n",
            "\n",
            "Downloading https://ossci-datasets.s3.amazonaws.com/mnist/train-images-idx3-ubyte.gz\n",
            "Downloading https://ossci-datasets.s3.amazonaws.com/mnist/train-images-idx3-ubyte.gz to data/MNIST/raw/train-images-idx3-ubyte.gz\n"
          ]
        },
        {
          "output_type": "stream",
          "name": "stderr",
          "text": [
            "100%|██████████| 9.91M/9.91M [00:00<00:00, 28.4MB/s]\n"
          ]
        },
        {
          "output_type": "stream",
          "name": "stdout",
          "text": [
            "Extracting data/MNIST/raw/train-images-idx3-ubyte.gz to data/MNIST/raw\n",
            "\n",
            "Downloading http://yann.lecun.com/exdb/mnist/train-labels-idx1-ubyte.gz\n",
            "Failed to download (trying next):\n",
            "HTTP Error 403: Forbidden\n",
            "\n",
            "Downloading https://ossci-datasets.s3.amazonaws.com/mnist/train-labels-idx1-ubyte.gz\n",
            "Downloading https://ossci-datasets.s3.amazonaws.com/mnist/train-labels-idx1-ubyte.gz to data/MNIST/raw/train-labels-idx1-ubyte.gz\n"
          ]
        },
        {
          "output_type": "stream",
          "name": "stderr",
          "text": [
            "100%|██████████| 28.9k/28.9k [00:00<00:00, 943kB/s]"
          ]
        },
        {
          "output_type": "stream",
          "name": "stdout",
          "text": [
            "Extracting data/MNIST/raw/train-labels-idx1-ubyte.gz to data/MNIST/raw\n",
            "\n",
            "Downloading http://yann.lecun.com/exdb/mnist/t10k-images-idx3-ubyte.gz\n"
          ]
        },
        {
          "output_type": "stream",
          "name": "stderr",
          "text": [
            "\n"
          ]
        },
        {
          "output_type": "stream",
          "name": "stdout",
          "text": [
            "Failed to download (trying next):\n",
            "HTTP Error 403: Forbidden\n",
            "\n",
            "Downloading https://ossci-datasets.s3.amazonaws.com/mnist/t10k-images-idx3-ubyte.gz\n",
            "Downloading https://ossci-datasets.s3.amazonaws.com/mnist/t10k-images-idx3-ubyte.gz to data/MNIST/raw/t10k-images-idx3-ubyte.gz\n"
          ]
        },
        {
          "output_type": "stream",
          "name": "stderr",
          "text": [
            "100%|██████████| 1.65M/1.65M [00:00<00:00, 7.97MB/s]\n"
          ]
        },
        {
          "output_type": "stream",
          "name": "stdout",
          "text": [
            "Extracting data/MNIST/raw/t10k-images-idx3-ubyte.gz to data/MNIST/raw\n",
            "\n",
            "Downloading http://yann.lecun.com/exdb/mnist/t10k-labels-idx1-ubyte.gz\n",
            "Failed to download (trying next):\n",
            "HTTP Error 403: Forbidden\n",
            "\n",
            "Downloading https://ossci-datasets.s3.amazonaws.com/mnist/t10k-labels-idx1-ubyte.gz\n",
            "Downloading https://ossci-datasets.s3.amazonaws.com/mnist/t10k-labels-idx1-ubyte.gz to data/MNIST/raw/t10k-labels-idx1-ubyte.gz\n"
          ]
        },
        {
          "output_type": "stream",
          "name": "stderr",
          "text": [
            "100%|██████████| 4.54k/4.54k [00:00<00:00, 8.37MB/s]\n"
          ]
        },
        {
          "output_type": "stream",
          "name": "stdout",
          "text": [
            "Extracting data/MNIST/raw/t10k-labels-idx1-ubyte.gz to data/MNIST/raw\n",
            "\n"
          ]
        },
        {
          "output_type": "execute_result",
          "data": {
            "text/plain": [
              "Dataset MNIST\n",
              "    Number of datapoints: 60000\n",
              "    Root location: data/\n",
              "    Split: Train"
            ]
          },
          "metadata": {},
          "execution_count": 3
        }
      ]
    },
    {
      "cell_type": "code",
      "source": [
        "test_dataset = MNIST(root='data/', train=False)\n",
        "test_dataset"
      ],
      "metadata": {
        "colab": {
          "base_uri": "https://localhost:8080/"
        },
        "id": "Rm9RIG-1cSz4",
        "outputId": "25fc503d-545e-4be8-a461-c30432615fa7"
      },
      "execution_count": 4,
      "outputs": [
        {
          "output_type": "execute_result",
          "data": {
            "text/plain": [
              "Dataset MNIST\n",
              "    Number of datapoints: 10000\n",
              "    Root location: data/\n",
              "    Split: Test"
            ]
          },
          "metadata": {},
          "execution_count": 4
        }
      ]
    },
    {
      "cell_type": "code",
      "source": [
        "import matplotlib.pyplot as plt\n",
        "%matplotlib inline"
      ],
      "metadata": {
        "id": "hwRjOoUUcVnZ"
      },
      "execution_count": 5,
      "outputs": []
    },
    {
      "cell_type": "code",
      "source": [
        "dataset[0]"
      ],
      "metadata": {
        "colab": {
          "base_uri": "https://localhost:8080/"
        },
        "id": "SExWuaftcmol",
        "outputId": "b16ecd14-c85e-4edf-89b0-5b49d3534470"
      },
      "execution_count": 6,
      "outputs": [
        {
          "output_type": "execute_result",
          "data": {
            "text/plain": [
              "(<PIL.Image.Image image mode=L size=28x28>, 5)"
            ]
          },
          "metadata": {},
          "execution_count": 6
        }
      ]
    },
    {
      "cell_type": "code",
      "source": [
        "image, label = dataset[0]\n",
        "plt.imshow(image)\n",
        "print('Label', label)"
      ],
      "metadata": {
        "colab": {
          "base_uri": "https://localhost:8080/",
          "height": 467
        },
        "id": "M67JgEHhc4Wu",
        "outputId": "83383d74-fdca-42f9-fe6e-4cd93a7548cd"
      },
      "execution_count": 7,
      "outputs": [
        {
          "output_type": "stream",
          "name": "stdout",
          "text": [
            "Label 5\n"
          ]
        },
        {
          "output_type": "display_data",
          "data": {
            "text/plain": [
              "<Figure size 640x480 with 1 Axes>"
            ],
            "image/png": "[encoded data removed]"
          },
          "metadata": {}
        }
      ]
    },
    {
      "cell_type": "code",
      "source": [
        "image, label = dataset[10]\n",
        "plt.imshow(image, cmap='gray')\n",
        "print('Label:', label)"
      ],
      "metadata": {
        "colab": {
          "base_uri": "https://localhost:8080/",
          "height": 467
        },
        "id": "3U9-wRepdM1B",
        "outputId": "026b0c04-6a32-4ada-d0cc-06b818bb43d6"
      },
      "execution_count": 8,
      "outputs": [
        {
          "output_type": "stream",
          "name": "stdout",
          "text": [
            "Label: 3\n"
          ]
        },
        {
          "output_type": "display_data",
          "data": {
            "text/plain": [
              "<Figure size 640x480 with 1 Axes>"
            ],
            "image/png": "[encoded data removed]"
          },
          "metadata": {}
        }
      ]
    },
    {
      "cell_type": "code",
      "source": [
        "import torchvision.transforms as transforms\n",
        "dataset.transform = transforms.ToTensor()\n",
        "dataset"
      ],
      "metadata": {
        "colab": {
          "base_uri": "https://localhost:8080/"
        },
        "id": "7ZGPBK8hdWsQ",
        "outputId": "f0ba07dc-b863-4a57-d513-9df90c2f76e8"
      },
      "execution_count": 9,
      "outputs": [
        {
          "output_type": "execute_result",
          "data": {
            "text/plain": [
              "Dataset MNIST\n",
              "    Number of datapoints: 60000\n",
              "    Root location: data/\n",
              "    Split: Train"
            ]
          },
          "metadata": {},
          "execution_count": 9
        }
      ]
    },
    {
      "cell_type": "code",
      "source": [
        "img_tensor, label = dataset[0]\n",
        "img_tensor.shape, label"
      ],
      "metadata": {
        "colab": {
          "base_uri": "https://localhost:8080/"
        },
        "id": "N7lSaAC6dvNz",
        "outputId": "cc8f98d3-199e-4a25-b44d-bcd119ded88f"
      },
      "execution_count": 10,
      "outputs": [
        {
          "output_type": "execute_result",
          "data": {
            "text/plain": [
              "(torch.Size([1, 28, 28]), 5)"
            ]
          },
          "metadata": {},
          "execution_count": 10
        }
      ]
    },
    {
      "cell_type": "code",
      "source": [
        "print(img_tensor[:,10:15,10:15])"
      ],
      "metadata": {
        "colab": {
          "base_uri": "https://localhost:8080/"
        },
        "id": "p0Lr-pr2d_-1",
        "outputId": "e5e51e89-a6f1-40ac-fc86-079f91bdea21"
      },
      "execution_count": 11,
      "outputs": [
        {
          "output_type": "stream",
          "name": "stdout",
          "text": [
            "tensor([[[0.0039, 0.6039, 0.9922, 0.3529, 0.0000],\n",
            "         [0.0000, 0.5451, 0.9922, 0.7451, 0.0078],\n",
            "         [0.0000, 0.0431, 0.7451, 0.9922, 0.2745],\n",
            "         [0.0000, 0.0000, 0.1373, 0.9451, 0.8824],\n",
            "         [0.0000, 0.0000, 0.0000, 0.3176, 0.9412]]])\n"
          ]
        }
      ]
    },
    {
      "cell_type": "markdown",
      "source": [
        "Display a part of the image"
      ],
      "metadata": {
        "id": "LyOO8bTWewBB"
      }
    },
    {
      "cell_type": "code",
      "source": [
        "plt.imshow(img_tensor[0,10:15,10:15], cmap='gray')"
      ],
      "metadata": {
        "colab": {
          "base_uri": "https://localhost:8080/",
          "height": 467
        },
        "id": "YSdgUSp9eP09",
        "outputId": "b3251513-83e2-4719-d57e-5167eaeb3f60"
      },
      "execution_count": 12,
      "outputs": [
        {
          "output_type": "execute_result",
          "data": {
            "text/plain": [
              "<matplotlib.image.AxesImage at 0x7f541b3656c0>"
            ]
          },
          "metadata": {},
          "execution_count": 12
        },
        {
          "output_type": "display_data",
          "data": {
            "text/plain": [
              "<Figure size 640x480 with 1 Axes>"
            ],
            "image/png": "[encoded data removed]"
          },
          "metadata": {}
        }
      ]
    },
    {
      "cell_type": "code",
      "source": [
        "from torch.utils.data import random_split\n",
        "\n",
        "train_ds, val_ds = random_split(dataset, [50000, 10000])\n",
        "len(train_ds), len(val_ds)"
      ],
      "metadata": {
        "colab": {
          "base_uri": "https://localhost:8080/"
        },
        "id": "mO_TV3ToebJa",
        "outputId": "bb825f6c-fc5e-4b2c-a406-3c0c705d5660"
      },
      "execution_count": 13,
      "outputs": [
        {
          "output_type": "execute_result",
          "data": {
            "text/plain": [
              "(50000, 10000)"
            ]
          },
          "metadata": {},
          "execution_count": 13
        }
      ]
    },
    {
      "cell_type": "code",
      "source": [
        "from torch.utils.data import DataLoader\n",
        "\n",
        "batch_size = 130\n",
        "\n",
        "train_dl = DataLoader(train_ds, batch_size, shuffle=True)\n",
        "validation_dl = DataLoader(val_ds, batch_size)"
      ],
      "metadata": {
        "id": "aVY1RFKVe5Z7"
      },
      "execution_count": 14,
      "outputs": []
    },
    {
      "cell_type": "code",
      "source": [
        "import torch.nn as nn\n",
        "input_size = 28*28\n",
        "output_size = 10\n",
        "model = nn.Linear(input_size, output_size)"
      ],
      "metadata": {
        "id": "qqBUqJ_0g4r3"
      },
      "execution_count": 15,
      "outputs": []
    },
    {
      "cell_type": "code",
      "source": [
        "model.weight, model.weight.shape"
      ],
      "metadata": {
        "colab": {
          "base_uri": "https://localhost:8080/"
        },
        "id": "6zVew0YKhKc4",
        "outputId": "90d23616-b30d-4252-f100-420318d24dd0"
      },
      "execution_count": 16,
      "outputs": [
        {
          "output_type": "execute_result",
          "data": {
            "text/plain": [
              "(Parameter containing:\n",
              " tensor([[ 0.0329,  0.0006, -0.0334,  ...,  0.0020, -0.0006, -0.0349],\n",
              "         [ 0.0054, -0.0178, -0.0083,  ...,  0.0279, -0.0119, -0.0009],\n",
              "         [-0.0113,  0.0094, -0.0322,  ...,  0.0115,  0.0009, -0.0060],\n",
              "         ...,\n",
              "         [ 0.0329, -0.0156,  0.0095,  ...,  0.0203,  0.0232,  0.0019],\n",
              "         [ 0.0254,  0.0254,  0.0349,  ...,  0.0222, -0.0036, -0.0302],\n",
              "         [ 0.0147, -0.0196,  0.0002,  ...,  0.0346, -0.0273,  0.0099]],\n",
              "        requires_grad=True),\n",
              " torch.Size([10, 784]))"
            ]
          },
          "metadata": {},
          "execution_count": 16
        }
      ]
    },
    {
      "cell_type": "markdown",
      "source": [
        "This is because we are predicting 10 outcomes with 784 input params, so W.t() will be in shape(10, 784) to predict each outcomes"
      ],
      "metadata": {
        "id": "ZPTNuSkYjBek"
      }
    },
    {
      "cell_type": "code",
      "source": [
        "model.bias, model.bias.shape"
      ],
      "metadata": {
        "colab": {
          "base_uri": "https://localhost:8080/"
        },
        "id": "1d9_biOMhUaa",
        "outputId": "43ff1d54-852b-4258-b865-8ca03ef929f2"
      },
      "execution_count": 17,
      "outputs": [
        {
          "output_type": "execute_result",
          "data": {
            "text/plain": [
              "(Parameter containing:\n",
              " tensor([ 0.0125, -0.0016, -0.0063,  0.0198, -0.0026,  0.0251, -0.0067,  0.0222,\n",
              "          0.0212, -0.0290], requires_grad=True),\n",
              " torch.Size([10]))"
            ]
          },
          "metadata": {},
          "execution_count": 17
        }
      ]
    },
    {
      "cell_type": "code",
      "source": [
        "for images, labels in train_dl:\n",
        "    print(labels)\n",
        "    print(images.shape)\n",
        "    outputs = model(images)\n",
        "    break"
      ],
      "metadata": {
        "colab": {
          "base_uri": "https://localhost:8080/",
          "height": 480
        },
        "id": "F1F5sf_Whuu9",
        "outputId": "33bda361-c3d8-4deb-81a6-44c1c1ceba35"
      },
      "execution_count": 18,
      "outputs": [
        {
          "output_type": "stream",
          "name": "stdout",
          "text": [
            "tensor([2, 2, 5, 4, 2, 3, 3, 4, 3, 0, 3, 0, 1, 6, 9, 1, 0, 3, 1, 0, 1, 7, 9, 3,\n",
            "        7, 2, 1, 9, 3, 3, 7, 4, 8, 8, 3, 0, 1, 4, 1, 2, 4, 7, 0, 1, 1, 0, 2, 8,\n",
            "        1, 3, 9, 4, 7, 0, 6, 6, 2, 8, 2, 4, 2, 3, 4, 7, 6, 5, 4, 4, 1, 3, 4, 3,\n",
            "        8, 7, 3, 2, 9, 2, 7, 8, 0, 8, 7, 3, 1, 0, 2, 7, 0, 7, 4, 2, 4, 2, 3, 7,\n",
            "        9, 2, 3, 6, 4, 2, 3, 8, 3, 4, 4, 6, 4, 2, 8, 4, 2, 9, 6, 3, 0, 0, 6, 1,\n",
            "        6, 7, 0, 2, 5, 1, 7, 4, 7, 3])\n",
            "torch.Size([130, 1, 28, 28])\n"
          ]
        },
        {
          "output_type": "error",
          "ename": "RuntimeError",
          "evalue": "mat1 and mat2 shapes cannot be multiplied (3640x28 and 784x10)",
          "traceback": [
            "\u001b[0;31m---------------------------------------------------------------------------\u001b[0m",
            "\u001b[0;31mRuntimeError\u001b[0m                              Traceback (most recent call last)",
            "\u001b[0;32m<ipython-input-18-b90fcdf630a7>\u001b[0m in \u001b[0;36m<cell line: 1>\u001b[0;34m()\u001b[0m\n\u001b[1;32m      2\u001b[0m     \u001b[0mprint\u001b[0m\u001b[0;34m(\u001b[0m\u001b[0mlabels\u001b[0m\u001b[0;34m)\u001b[0m\u001b[0;34m\u001b[0m\u001b[0;34m\u001b[0m\u001b[0m\n\u001b[1;32m      3\u001b[0m     \u001b[0mprint\u001b[0m\u001b[0;34m(\u001b[0m\u001b[0mimages\u001b[0m\u001b[0;34m.\u001b[0m\u001b[0mshape\u001b[0m\u001b[0;34m)\u001b[0m\u001b[0;34m\u001b[0m\u001b[0;34m\u001b[0m\u001b[0m\n\u001b[0;32m----> 4\u001b[0;31m     \u001b[0moutputs\u001b[0m \u001b[0;34m=\u001b[0m \u001b[0mmodel\u001b[0m\u001b[0;34m(\u001b[0m\u001b[0mimages\u001b[0m\u001b[0;34m)\u001b[0m\u001b[0;34m\u001b[0m\u001b[0;34m\u001b[0m\u001b[0m\n\u001b[0m\u001b[1;32m      5\u001b[0m     \u001b[0;32mbreak\u001b[0m\u001b[0;34m\u001b[0m\u001b[0;34m\u001b[0m\u001b[0m\n",
            "\u001b[0;32m/usr/local/lib/python3.10/dist-packages/torch/nn/modules/module.py\u001b[0m in \u001b[0;36m_wrapped_call_impl\u001b[0;34m(self, *args, **kwargs)\u001b[0m\n\u001b[1;32m   1734\u001b[0m             \u001b[0;32mreturn\u001b[0m \u001b[0mself\u001b[0m\u001b[0;34m.\u001b[0m\u001b[0m_compiled_call_impl\u001b[0m\u001b[0;34m(\u001b[0m\u001b[0;34m*\u001b[0m\u001b[0margs\u001b[0m\u001b[0;34m,\u001b[0m \u001b[0;34m**\u001b[0m\u001b[0mkwargs\u001b[0m\u001b[0;34m)\u001b[0m  \u001b[0;31m# type: ignore[misc]\u001b[0m\u001b[0;34m\u001b[0m\u001b[0;34m\u001b[0m\u001b[0m\n\u001b[1;32m   1735\u001b[0m         \u001b[0;32melse\u001b[0m\u001b[0;34m:\u001b[0m\u001b[0;34m\u001b[0m\u001b[0;34m\u001b[0m\u001b[0m\n\u001b[0;32m-> 1736\u001b[0;31m             \u001b[0;32mreturn\u001b[0m \u001b[0mself\u001b[0m\u001b[0;34m.\u001b[0m\u001b[0m_call_impl\u001b[0m\u001b[0;34m(\u001b[0m\u001b[0;34m*\u001b[0m\u001b[0margs\u001b[0m\u001b[0;34m,\u001b[0m \u001b[0;34m**\u001b[0m\u001b[0mkwargs\u001b[0m\u001b[0;34m)\u001b[0m\u001b[0;34m\u001b[0m\u001b[0;34m\u001b[0m\u001b[0m\n\u001b[0m\u001b[1;32m   1737\u001b[0m \u001b[0;34m\u001b[0m\u001b[0m\n\u001b[1;32m   1738\u001b[0m     \u001b[0;31m# torchrec tests the code consistency with the following code\u001b[0m\u001b[0;34m\u001b[0m\u001b[0;34m\u001b[0m\u001b[0m\n",
            "\u001b[0;32m/usr/local/lib/python3.10/dist-packages/torch/nn/modules/module.py\u001b[0m in \u001b[0;36m_call_impl\u001b[0;34m(self, *args, **kwargs)\u001b[0m\n\u001b[1;32m   1745\u001b[0m                 \u001b[0;32mor\u001b[0m \u001b[0m_global_backward_pre_hooks\u001b[0m \u001b[0;32mor\u001b[0m \u001b[0m_global_backward_hooks\u001b[0m\u001b[0;34m\u001b[0m\u001b[0;34m\u001b[0m\u001b[0m\n\u001b[1;32m   1746\u001b[0m                 or _global_forward_hooks or _global_forward_pre_hooks):\n\u001b[0;32m-> 1747\u001b[0;31m             \u001b[0;32mreturn\u001b[0m \u001b[0mforward_call\u001b[0m\u001b[0;34m(\u001b[0m\u001b[0;34m*\u001b[0m\u001b[0margs\u001b[0m\u001b[0;34m,\u001b[0m \u001b[0;34m**\u001b[0m\u001b[0mkwargs\u001b[0m\u001b[0;34m)\u001b[0m\u001b[0;34m\u001b[0m\u001b[0;34m\u001b[0m\u001b[0m\n\u001b[0m\u001b[1;32m   1748\u001b[0m \u001b[0;34m\u001b[0m\u001b[0m\n\u001b[1;32m   1749\u001b[0m         \u001b[0mresult\u001b[0m \u001b[0;34m=\u001b[0m \u001b[0;32mNone\u001b[0m\u001b[0;34m\u001b[0m\u001b[0;34m\u001b[0m\u001b[0m\n",
            "\u001b[0;32m/usr/local/lib/python3.10/dist-packages/torch/nn/modules/linear.py\u001b[0m in \u001b[0;36mforward\u001b[0;34m(self, input)\u001b[0m\n\u001b[1;32m    123\u001b[0m \u001b[0;34m\u001b[0m\u001b[0m\n\u001b[1;32m    124\u001b[0m     \u001b[0;32mdef\u001b[0m \u001b[0mforward\u001b[0m\u001b[0;34m(\u001b[0m\u001b[0mself\u001b[0m\u001b[0;34m,\u001b[0m \u001b[0minput\u001b[0m\u001b[0;34m:\u001b[0m \u001b[0mTensor\u001b[0m\u001b[0;34m)\u001b[0m \u001b[0;34m->\u001b[0m \u001b[0mTensor\u001b[0m\u001b[0;34m:\u001b[0m\u001b[0;34m\u001b[0m\u001b[0;34m\u001b[0m\u001b[0m\n\u001b[0;32m--> 125\u001b[0;31m         \u001b[0;32mreturn\u001b[0m \u001b[0mF\u001b[0m\u001b[0;34m.\u001b[0m\u001b[0mlinear\u001b[0m\u001b[0;34m(\u001b[0m\u001b[0minput\u001b[0m\u001b[0;34m,\u001b[0m \u001b[0mself\u001b[0m\u001b[0;34m.\u001b[0m\u001b[0mweight\u001b[0m\u001b[0;34m,\u001b[0m \u001b[0mself\u001b[0m\u001b[0;34m.\u001b[0m\u001b[0mbias\u001b[0m\u001b[0;34m)\u001b[0m\u001b[0;34m\u001b[0m\u001b[0;34m\u001b[0m\u001b[0m\n\u001b[0m\u001b[1;32m    126\u001b[0m \u001b[0;34m\u001b[0m\u001b[0m\n\u001b[1;32m    127\u001b[0m     \u001b[0;32mdef\u001b[0m \u001b[0mextra_repr\u001b[0m\u001b[0;34m(\u001b[0m\u001b[0mself\u001b[0m\u001b[0;34m)\u001b[0m \u001b[0;34m->\u001b[0m \u001b[0mstr\u001b[0m\u001b[0;34m:\u001b[0m\u001b[0;34m\u001b[0m\u001b[0;34m\u001b[0m\u001b[0m\n",
            "\u001b[0;31mRuntimeError\u001b[0m: mat1 and mat2 shapes cannot be multiplied (3640x28 and 784x10)"
          ]
        }
      ]
    },
    {
      "cell_type": "markdown",
      "source": [
        "This is because we have not fltten the data"
      ],
      "metadata": {
        "id": "subA_hqPkBoi"
      }
    },
    {
      "cell_type": "markdown",
      "source": [],
      "metadata": {
        "id": "-ChwePF9kAWw"
      }
    },
    {
      "cell_type": "code",
      "source": [
        "class MnistModel(nn.Module):\n",
        "  def __init__(self, input_size, num_classes):\n",
        "    super().__init__()\n",
        "    self.linear = nn.Linear(input_size, num_classes)\n",
        "  def forward(self, x):\n",
        "    xb = x.reshape(-1, 784)\n",
        "    out = self.linear(xb)\n",
        "    return out"
      ],
      "metadata": {
        "id": "xLhrEO0Ajym4"
      },
      "execution_count": 19,
      "outputs": []
    },
    {
      "cell_type": "code",
      "source": [
        "nnModel = MnistModel(784, 10)\n",
        "nnModel.linear.weight, nnModel.linear.weight.shape, nnModel.linear.bias"
      ],
      "metadata": {
        "colab": {
          "base_uri": "https://localhost:8080/"
        },
        "id": "fCPId63cjcmo",
        "outputId": "56037f53-b537-4e2a-aa4a-5f24f4a21937"
      },
      "execution_count": 20,
      "outputs": [
        {
          "output_type": "execute_result",
          "data": {
            "text/plain": [
              "(Parameter containing:\n",
              " tensor([[ 0.0313, -0.0198, -0.0130,  ..., -0.0278,  0.0353, -0.0099],\n",
              "         [-0.0244, -0.0314, -0.0141,  ...,  0.0215, -0.0352, -0.0066],\n",
              "         [ 0.0309,  0.0276, -0.0237,  ...,  0.0301,  0.0295, -0.0357],\n",
              "         ...,\n",
              "         [-0.0015, -0.0124,  0.0324,  ...,  0.0198,  0.0071, -0.0008],\n",
              "         [ 0.0314, -0.0199, -0.0085,  ...,  0.0078,  0.0097, -0.0289],\n",
              "         [-0.0292,  0.0342, -0.0239,  ...,  0.0130, -0.0106,  0.0136]],\n",
              "        requires_grad=True),\n",
              " torch.Size([10, 784]),\n",
              " Parameter containing:\n",
              " tensor([-0.0102,  0.0275,  0.0186, -0.0063,  0.0137, -0.0077, -0.0086,  0.0086,\n",
              "          0.0071, -0.0051], requires_grad=True))"
            ]
          },
          "metadata": {},
          "execution_count": 20
        }
      ]
    },
    {
      "cell_type": "code",
      "source": [
        "for images, labels in train_dl:\n",
        "    outputs = nnModel(images)\n",
        "    break\n",
        "\n",
        "print('outputs.shape : ', outputs.shape)\n",
        "print('Sample outputs :\\n', outputs[:2].data)"
      ],
      "metadata": {
        "colab": {
          "base_uri": "https://localhost:8080/"
        },
        "id": "k8LDa-A0lNnD",
        "outputId": "935cda21-357d-4a61-d0de-94f8ae22da37"
      },
      "execution_count": 21,
      "outputs": [
        {
          "output_type": "stream",
          "name": "stdout",
          "text": [
            "outputs.shape :  torch.Size([130, 10])\n",
            "Sample outputs :\n",
            " tensor([[ 0.1605, -0.1773,  0.0044,  0.0392, -0.0675,  0.1760, -0.1813,  0.0917,\n",
            "          0.2240, -0.1024],\n",
            "        [-0.2895, -0.1759, -0.0236,  0.2529, -0.0455, -0.0313, -0.2702,  0.2626,\n",
            "         -0.1584, -0.1480]])\n"
          ]
        }
      ]
    },
    {
      "cell_type": "code",
      "source": [
        "from torch.functional import F\n",
        "from torch.functional import F\n",
        "probs = F.softmax(outputs, dim=1)\n",
        "max_value, index = torch.max(probs, dim=1)#Provides the max prob in all dataset\n",
        "print([f'predicted {x}, actual {y}' for x,y in zip(index, labels)])"
      ],
      "metadata": {
        "colab": {
          "base_uri": "https://localhost:8080/"
        },
        "id": "rvxJsDNxl5xI",
        "outputId": "4177cb90-7205-487e-d1f7-566e99a2b9e7"
      },
      "execution_count": 22,
      "outputs": [
        {
          "output_type": "stream",
          "name": "stdout",
          "text": [
            "['predicted 8, actual 2', 'predicted 7, actual 1', 'predicted 8, actual 8', 'predicted 5, actual 9', 'predicted 3, actual 0', 'predicted 2, actual 3', 'predicted 7, actual 8', 'predicted 3, actual 1', 'predicted 1, actual 2', 'predicted 3, actual 2', 'predicted 9, actual 9', 'predicted 3, actual 5', 'predicted 7, actual 1', 'predicted 9, actual 1', 'predicted 7, actual 7', 'predicted 3, actual 1', 'predicted 5, actual 5', 'predicted 8, actual 9', 'predicted 7, actual 2', 'predicted 8, actual 8', 'predicted 1, actual 4', 'predicted 2, actual 0', 'predicted 7, actual 6', 'predicted 9, actual 8', 'predicted 7, actual 8', 'predicted 8, actual 5', 'predicted 3, actual 3', 'predicted 3, actual 0', 'predicted 5, actual 9', 'predicted 7, actual 1', 'predicted 8, actual 3', 'predicted 8, actual 6', 'predicted 9, actual 3', 'predicted 5, actual 6', 'predicted 7, actual 2', 'predicted 7, actual 1', 'predicted 3, actual 5', 'predicted 8, actual 6', 'predicted 8, actual 3', 'predicted 8, actual 5', 'predicted 8, actual 2', 'predicted 7, actual 0', 'predicted 7, actual 2', 'predicted 3, actual 6', 'predicted 9, actual 6', 'predicted 7, actual 2', 'predicted 3, actual 0', 'predicted 3, actual 1', 'predicted 7, actual 2', 'predicted 3, actual 8', 'predicted 5, actual 9', 'predicted 3, actual 8', 'predicted 1, actual 6', 'predicted 9, actual 1', 'predicted 3, actual 8', 'predicted 2, actual 2', 'predicted 3, actual 6', 'predicted 3, actual 6', 'predicted 8, actual 6', 'predicted 5, actual 8', 'predicted 9, actual 7', 'predicted 7, actual 2', 'predicted 3, actual 0', 'predicted 2, actual 7', 'predicted 7, actual 1', 'predicted 5, actual 0', 'predicted 3, actual 1', 'predicted 3, actual 7', 'predicted 3, actual 2', 'predicted 3, actual 1', 'predicted 8, actual 7', 'predicted 8, actual 6', 'predicted 2, actual 9', 'predicted 3, actual 6', 'predicted 2, actual 2', 'predicted 5, actual 9', 'predicted 3, actual 7', 'predicted 3, actual 4', 'predicted 3, actual 3', 'predicted 3, actual 3', 'predicted 9, actual 0', 'predicted 8, actual 2', 'predicted 8, actual 3', 'predicted 7, actual 1', 'predicted 1, actual 6', 'predicted 3, actual 6', 'predicted 5, actual 8', 'predicted 8, actual 6', 'predicted 7, actual 1', 'predicted 8, actual 8', 'predicted 3, actual 3', 'predicted 3, actual 1', 'predicted 8, actual 3', 'predicted 3, actual 7', 'predicted 8, actual 9', 'predicted 3, actual 7', 'predicted 8, actual 3', 'predicted 3, actual 8', 'predicted 1, actual 2', 'predicted 9, actual 7', 'predicted 8, actual 2', 'predicted 9, actual 6', 'predicted 5, actual 9', 'predicted 7, actual 1', 'predicted 9, actual 5', 'predicted 8, actual 9', 'predicted 2, actual 8', 'predicted 7, actual 1', 'predicted 9, actual 4', 'predicted 5, actual 2', 'predicted 7, actual 5', 'predicted 8, actual 4', 'predicted 8, actual 8', 'predicted 8, actual 9', 'predicted 3, actual 3', 'predicted 8, actual 3', 'predicted 5, actual 6', 'predicted 9, actual 5', 'predicted 7, actual 2', 'predicted 8, actual 4', 'predicted 3, actual 1', 'predicted 3, actual 0', 'predicted 9, actual 1', 'predicted 7, actual 8', 'predicted 1, actual 2', 'predicted 4, actual 9', 'predicted 7, actual 1', 'predicted 9, actual 2', 'predicted 8, actual 7', 'predicted 9, actual 9']\n"
          ]
        }
      ]
    },
    {
      "cell_type": "markdown",
      "source": [
        "As the above are just random weights, the predictions are wrong mostly"
      ],
      "metadata": {
        "id": "Ttmnf0dFtOMW"
      }
    },
    {
      "cell_type": "code",
      "source": [
        "def accuracy(prediction, label):\n",
        "    _, preds = torch.max(prediction, dim=1)\n",
        "    return torch.sum(preds == label) / len(label)"
      ],
      "metadata": {
        "id": "LRGbA8R5pKXN"
      },
      "execution_count": 23,
      "outputs": []
    },
    {
      "cell_type": "code",
      "source": [
        "probs.size(), labels.size()"
      ],
      "metadata": {
        "colab": {
          "base_uri": "https://localhost:8080/"
        },
        "id": "hrG0xUX-u3LA",
        "outputId": "8b808584-44c0-41e7-9458-e39305a985af"
      },
      "execution_count": 24,
      "outputs": [
        {
          "output_type": "execute_result",
          "data": {
            "text/plain": [
              "(torch.Size([130, 10]), torch.Size([130]))"
            ]
          },
          "metadata": {},
          "execution_count": 24
        }
      ]
    },
    {
      "cell_type": "code",
      "source": [
        "accuracy(probs, labels)"
      ],
      "metadata": {
        "colab": {
          "base_uri": "https://localhost:8080/"
        },
        "id": "mDnV3269uY9e",
        "outputId": "59c5f742-c333-4a82-ca68-b29a0ab4c27a"
      },
      "execution_count": 25,
      "outputs": [
        {
          "output_type": "execute_result",
          "data": {
            "text/plain": [
              "tensor(0.1154)"
            ]
          },
          "metadata": {},
          "execution_count": 25
        }
      ]
    },
    {
      "cell_type": "code",
      "source": [
        "loss_fn = F.cross_entropy\n",
        "loss = loss_fn(outputs, labels)\n",
        "print(loss)"
      ],
      "metadata": {
        "colab": {
          "base_uri": "https://localhost:8080/"
        },
        "id": "AW8rKU5Nuegu",
        "outputId": "08b4a281-a3a5-439d-a904-dfce5e71ebab"
      },
      "execution_count": 26,
      "outputs": [
        {
          "output_type": "stream",
          "name": "stdout",
          "text": [
            "tensor(2.2993, grad_fn=<NllLossBackward0>)\n"
          ]
        }
      ]
    },
    {
      "cell_type": "code",
      "source": [
        "class MnistModel(nn.Module):\n",
        "    def __init__(self, input_size, output_size):\n",
        "        super().__init__()\n",
        "        self.linear = nn.Linear(input_size, output_size)\n",
        "\n",
        "    def forward(self, xb):\n",
        "        xb = xb.reshape(-1, 784) #-1 tells numpy to take whatever should fit in here its the batch size\n",
        "        out = self.linear(xb)\n",
        "        return out\n",
        "\n",
        "    def training(self, batch):\n",
        "      images, labels = batch\n",
        "      out = self(images)\n",
        "      loss = F.cross_entropy(out, labels)\n",
        "      acc = self.accuracy(out, labels)\n",
        "      return {'val_loss': loss, 'val_accuracy': acc}\n",
        "\n",
        "    def accuracy(self, out, labels):\n",
        "       _, preds = torch.max(out, dim=1)\n",
        "       return torch.sum(preds == labels) / len(labels)\n",
        "\n",
        "    def validation_steps(self, batch):\n",
        "\n"
      ],
      "metadata": {
        "id": "oX5LbHZPEPfP"
      },
      "execution_count": 26,
      "outputs": []
    }
  ]
}